{
  "nbformat": 4,
  "nbformat_minor": 0,
  "metadata": {
    "colab": {
      "provenance": []
    },
    "kernelspec": {
      "name": "python3",
      "display_name": "Python 3"
    },
    "language_info": {
      "name": "python"
    }
  },
  "cells": [
    {
      "cell_type": "markdown",
      "source": [
        "# **17th SEP, PYTHON ASSIGNMENT**"
      ],
      "metadata": {
        "id": "WrZMi27nHUAJ"
      }
    },
    {
      "cell_type": "markdown",
      "source": [
        "FOR LOOP"
      ],
      "metadata": {
        "id": "_WnNoR3LHot8"
      }
    },
    {
      "cell_type": "code",
      "execution_count": null,
      "metadata": {
        "id": "Bsk9Heb2hwQN"
      },
      "outputs": [],
      "source": [
        "# Python program to print numbers from 1 to 10 using a for loop\n",
        "\n",
        "# Using a for loop to iterate over the range of numbers from 1 to 11 (exclusive)\n",
        "for num in range(1, 11):\n",
        "    print(num)\n"
      ]
    },
    {
      "cell_type": "markdown",
      "source": [
        "Q.Explain the difference between a for loop and a while loop in Python"
      ],
      "metadata": {
        "id": "AEwsNULrsBdv"
      }
    },
    {
      "cell_type": "code",
      "source": [
        "'''Both for and while loops are control flow structures in Python that allow you to repeatedly execute a block of code.\n",
        " However, they have different use cases and syntax.'''\n",
        "\n",
        "\n",
        "'''for Loop:\n",
        "\n",
        "The for loop is used when you know the number of iterations in advance,\n",
        "or when you want to iterate over a sequence (such as a list, tuple, string, or range). The syntax for a for loop is as follows:'''\n",
        "\n",
        "# Example\n",
        "# Using a for loop to iterate over a list\n",
        "fruits = [\"apple\", \"banana\", \"cherry\"]\n",
        "for fruit in fruits:\n",
        "    print(fruit)\n",
        "\n",
        "\n",
        "'''while Loop:\n",
        "The while loop is used when you want to repeat a block of code as long as a certain condition is true. The syntax for a while loop is as follows:'''\n",
        "\n",
        "# Example\n",
        "# Using a while loop to print numbers from 1 to 5\n",
        "num = 1\n",
        "while num <= 5:\n",
        "    print(num)\n",
        "    num += 1\n",
        "\n",
        "\n",
        "\n",
        "\n"
      ],
      "metadata": {
        "id": "UtjAogB2qRWB"
      },
      "execution_count": null,
      "outputs": []
    },
    {
      "cell_type": "code",
      "source": [
        "# Python program to calculate the sum of all numbers from 1 to 100 using a for loop\n",
        "\n",
        "# Initialize a variable to store the sum\n",
        "sum_of_numbers = 0\n",
        "\n",
        "# Using a for loop to iterate over the numbers from 1 to 100\n",
        "for num in range(1, 101):\n",
        "    sum_of_numbers += num\n",
        "\n",
        "# Print the sum\n",
        "print(\"The sum of numbers from 1 to 100 is:\", sum_of_numbers)\n"
      ],
      "metadata": {
        "id": "2B9EtIFduKGd"
      },
      "execution_count": null,
      "outputs": []
    },
    {
      "cell_type": "markdown",
      "source": [
        "**Q. How do you itirate through a list using for loop in python**"
      ],
      "metadata": {
        "id": "Q_Ir_JUqwRsp"
      }
    },
    {
      "cell_type": "code",
      "source": [
        "# iterate through a list using a for loop. Here's the basic syntax:\n",
        "\n",
        "# Using a for loop to iterate through a list\n",
        "\n",
        "my_list = [1, 2, 3, 4, 5]\n",
        "\n",
        "for item in my_list:\n",
        "    # Code to be executed for each item in the list\n",
        "    print(item)\n"
      ],
      "metadata": {
        "id": "I3Ex7xErvmOJ"
      },
      "execution_count": null,
      "outputs": []
    },
    {
      "cell_type": "code",
      "source": [
        "# Python program to find the product of all elements in a list using a for loop\n",
        "\n",
        "# Sample list of numbers\n",
        "numbers = [2, 3, 4, 5]\n",
        "\n",
        "# Initialize a variable to store the product\n",
        "product = 1\n",
        "\n",
        "# Using a for loop to iterate over the numbers in the list\n",
        "for num in numbers:\n",
        "    product *= num\n",
        "\n",
        "# Print the product\n",
        "print(\"The product of all elements in the list is:\", product)\n"
      ],
      "metadata": {
        "id": "XNuxrCs9yybq"
      },
      "execution_count": null,
      "outputs": []
    },
    {
      "cell_type": "code",
      "source": [
        "# Python program to print all even numbers from 1 to 20 using a for loop\n",
        "\n",
        "# Using a for loop to iterate over the range of numbers from 1 to 21 (exclusive)\n",
        "for num in range(2, 21, 2):\n",
        "    print(num)\n"
      ],
      "metadata": {
        "id": "v-EFXI4jz4fc"
      },
      "execution_count": null,
      "outputs": []
    },
    {
      "cell_type": "code",
      "source": [
        "# Python program to calculate the factorial of a number using a for loop\n",
        "\n",
        "# Function to calculate factorial\n",
        "def calculate_factorial(number):\n",
        "    # Initialize the result to 1\n",
        "    factorial_result = 1\n",
        "\n",
        "    # Using a for loop to multiply numbers from 1 to the given number\n",
        "    for i in range(1, number + 1):\n",
        "        factorial_result *= i\n",
        "\n",
        "    return factorial_result\n",
        "\n",
        "# Input: The number for which you want to calculate the factorial\n",
        "user_input = int(input(\"Enter a number: \"))\n",
        "\n",
        "# Check if the input is non-negative\n",
        "if user_input >= 0:\n",
        "    result = calculate_factorial(user_input)\n",
        "    print(f\"The factorial of {user_input} is: {result}\")\n",
        "else:\n",
        "    print(\"Factorial is undefined for negative numbers.\")\n"
      ],
      "metadata": {
        "id": "5syyfZgV1t0O"
      },
      "execution_count": null,
      "outputs": []
    },
    {
      "cell_type": "code",
      "source": [
        "# Using a for loop to iterate through the characters of a string\n",
        "my_string = \"Hello, World!\"\n",
        "\n",
        "for char in my_string:\n",
        "    print(char)\n"
      ],
      "metadata": {
        "id": "cekA9Q7RtkNc"
      },
      "execution_count": null,
      "outputs": []
    },
    {
      "cell_type": "code",
      "source": [
        "# Python program to find the largest number in a list using a for loop\n",
        "\n",
        "# Sample list of numbers\n",
        "numbers = [12, 45, 67, 23, 89, 34, 56]\n",
        "\n",
        "# Initialize a variable to store the largest number\n",
        "largest_number = numbers[0]  # Assume the first number is the largest initially\n",
        "\n",
        "# Using a for loop to iterate over the numbers in the list\n",
        "for num in numbers:\n",
        "    # Check if the current number is greater than the current largest_number\n",
        "    if num > largest_number:\n",
        "        largest_number = num\n",
        "\n",
        "# Print the largest number\n",
        "print(\"The largest number in the list is:\", largest_number)\n"
      ],
      "metadata": {
        "id": "Sy4zhQsZtlh6"
      },
      "execution_count": null,
      "outputs": []
    },
    {
      "cell_type": "code",
      "source": [
        "# Python program to count the number of vowels in a given string using a for loop\n",
        "\n",
        "# Function to count vowels in a string\n",
        "def count_vowels(input_string):\n",
        "    # Define a set of vowels\n",
        "    vowels = set(\"aeiouAEIOU\")\n",
        "\n",
        "    # Initialize a variable to store the count\n",
        "    vowel_count = 0\n",
        "\n",
        "    # Using a for loop to iterate over each character in the string\n",
        "    for char in input_string:\n",
        "        # Check if the character is a vowel\n",
        "        if char in vowels:\n",
        "            vowel_count += 1\n",
        "\n",
        "    return vowel_count\n",
        "\n",
        "# Input: The string for which you want to count vowels\n",
        "user_input = input(\"Enter a string: \")\n",
        "\n",
        "# Call the function and print the result\n",
        "result = count_vowels(user_input)\n",
        "print(f\"The number of vowels in the string is: {result}\")\n"
      ],
      "metadata": {
        "id": "5zWi53-YuEA7"
      },
      "execution_count": null,
      "outputs": []
    },
    {
      "cell_type": "code",
      "source": [
        "# Python program to generate a multiplication table for a given number using a for loop\n",
        "\n",
        "# Function to generate a multiplication table\n",
        "def multiplication_table(number, up_to):\n",
        "    print(f\"Multiplication table for {number} up to {up_to}:\")\n",
        "\n",
        "    # Using a for loop to iterate over the range of numbers\n",
        "    for i in range(1, up_to + 1):\n",
        "        result = number * i\n",
        "        print(f\"{number} x {i} = {result}\")\n",
        "\n",
        "# Input: The number for which you want to generate the multiplication table\n",
        "user_number = int(input(\"Enter a number: \"))\n",
        "\n",
        "# Input: The range up to which you want to generate the multiplication table\n",
        "user_range = int(input(\"Enter the range for the multiplication table: \"))\n",
        "\n",
        "# Call the function to generate the multiplication table\n",
        "multiplication_table(user_number, user_range)\n"
      ],
      "metadata": {
        "id": "sd4nz-IA4NzT"
      },
      "execution_count": null,
      "outputs": []
    },
    {
      "cell_type": "code",
      "source": [
        "# Python program to reverse a list using a for loop\n",
        "\n",
        "# Sample list of elements\n",
        "original_list = [1, 2, 3, 4, 5]\n",
        "\n",
        "# Determine the length of the list\n",
        "list_length = len(original_list)\n",
        "\n",
        "# Initialize an empty list to store the reversed elements\n",
        "reversed_list = []\n",
        "\n",
        "# Using a for loop to iterate over the original list in reverse order\n",
        "for index in range(list_length - 1, -1, -1):\n",
        "    reversed_list.append(original_list[index])\n",
        "\n",
        "# Print the original and reversed lists\n",
        "print(\"Original List:\", original_list)\n",
        "print(\"Reversed List:\", reversed_list)\n"
      ],
      "metadata": {
        "id": "iHToFO_r4oc6"
      },
      "execution_count": null,
      "outputs": []
    },
    {
      "cell_type": "code",
      "source": [
        "# Python program to find the common elements between two lists using a for loop\n",
        "\n",
        "# Sample lists\n",
        "list1 = [1, 2, 3, 4, 5]\n",
        "list2 = [3, 4, 5, 6, 7]\n",
        "\n",
        "# Initialize an empty list to store the common elements\n",
        "common_elements = []\n",
        "\n",
        "# Using a for loop to iterate over elements in list1\n",
        "for item in list1:\n",
        "    # Check if the current item is in list2\n",
        "    if item in list2:\n",
        "        common_elements.append(item)\n",
        "\n",
        "# Print the common elements\n",
        "print(\"Common Elements:\", common_elements)\n"
      ],
      "metadata": {
        "id": "waUSnT105U0b"
      },
      "execution_count": null,
      "outputs": []
    },
    {
      "cell_type": "markdown",
      "source": [
        "Q. Explain how to use a for loop to iterate through the keys and values of adictionary in Python"
      ],
      "metadata": {
        "id": "TNNU3FA6CuRv"
      }
    },
    {
      "cell_type": "code",
      "source": [
        "'''can use a for loop to iterate through the keys and values of a dictionary using the items() method.\n",
        "The items() method returns a view of the dictionary's key-value pairs as tuples, which makes it convenient for iteration. Here's an example:'''\n",
        "\n",
        "\n",
        "# Sample dictionary\n",
        "my_dict = {'a': 1, 'b': 2, 'c': 3, 'd': 4}\n",
        "\n",
        "# Using a for loop to iterate through keys and values\n",
        "for key, value in my_dict.items():\n",
        "    print(f\"Key: {key}, Value: {value}\")\n",
        "\n",
        "\n",
        "#In this example, the for loop iterates over the result of my_dict.items(), which is a view containing tuples of (key, value). In each iteration,\n",
        "#the variables key and value take on the corresponding values from the current tuple, and you can use them as needed within the loop.'''\n"
      ],
      "metadata": {
        "id": "nu6buybYCgvk"
      },
      "execution_count": null,
      "outputs": []
    },
    {
      "cell_type": "code",
      "source": [
        "# Python program to check if a string is a palindrome using a for loop\n",
        "\n",
        "# Function to check if a string is a palindrome\n",
        "def is_palindrome(input_string):\n",
        "    # Remove spaces and convert to lowercase for case-insensitive comparison\n",
        "    cleaned_string = input_string.replace(\" \", \"\").lower()\n",
        "\n",
        "    # Initialize variables for indices\n",
        "    start_index = 0\n",
        "    end_index = len(cleaned_string) - 1\n",
        "\n",
        "    # Using a for loop to compare characters from both ends\n",
        "    for _ in range(len(cleaned_string) // 2):\n",
        "        if cleaned_string[start_index] != cleaned_string[end_index]:\n",
        "            return False  # Not a palindrome\n",
        "        start_index += 1\n",
        "        end_index -= 1\n",
        "\n",
        "    return True  # Palindrome\n",
        "\n",
        "# Input: The string to be checked\n",
        "user_input = input(\"Enter a string: \")\n",
        "\n",
        "# Check if the input string is a palindrome\n",
        "if is_palindrome(user_input):\n",
        "    print(f\"{user_input} is a palindrome.\")\n",
        "else:\n",
        "    print(f\"{user_input} is not a palindrome.\")\n"
      ],
      "metadata": {
        "id": "JuhySdl5Eq93"
      },
      "execution_count": null,
      "outputs": []
    },
    {
      "cell_type": "code",
      "source": [
        "# Python program to remove duplicates from a list using a for loop\n",
        "\n",
        "# Sample list with duplicates\n",
        "original_list = [1, 2, 2, 3, 4, 4, 5, 6, 6]\n",
        "\n",
        "# Initialize an empty list to store unique elements\n",
        "unique_list = []\n",
        "\n",
        "# Using a for loop to iterate over the original list\n",
        "for element in original_list:\n",
        "    # Check if the element is not already in the unique list\n",
        "    if element not in unique_list:\n",
        "        unique_list.append(element)\n",
        "\n",
        "# Print the original and unique lists\n",
        "print(\"Original List:\", original_list)\n",
        "print(\"List with Duplicates Removed:\", unique_list)\n"
      ],
      "metadata": {
        "id": "ZoRejiSDE8j4"
      },
      "execution_count": null,
      "outputs": []
    },
    {
      "cell_type": "code",
      "source": [
        "# Python program to remove duplicates from a list using a for loop\n",
        "\n",
        "# Sample list with duplicates\n",
        "original_list = [1, 2, 2, 3, 4, 4, 5, 6, 6]\n",
        "\n",
        "# Initialize an empty list to store unique elements\n",
        "unique_list = []\n",
        "\n",
        "# Using a for loop to iterate over the original list\n",
        "for element in original_list:\n",
        "    # Check if the element is not already in the unique list\n",
        "    if element not in unique_list:\n",
        "        unique_list.append(element)\n",
        "\n",
        "# Print the original and unique lists\n",
        "print(\"Original List:\", original_list)\n",
        "print(\"List with Duplicates Removed:\", unique_list)\n"
      ],
      "metadata": {
        "id": "HV7RxfqwFRlg"
      },
      "execution_count": null,
      "outputs": []
    },
    {
      "cell_type": "code",
      "source": [
        "# Python program to count the number of words in a sentence using a for loop\n",
        "\n",
        "# Function to count words in a sentence\n",
        "def count_words(sentence):\n",
        "    # Initialize a variable to store the word count\n",
        "    word_count = 0\n",
        "\n",
        "    # Using a for loop to iterate over each character in the sentence\n",
        "    for char in sentence:\n",
        "        # Check if the current character is a space\n",
        "        if char == ' ':\n",
        "            word_count += 1\n",
        "\n",
        "    # Add 1 to the count for the last word (no space after the last word)\n",
        "    word_count += 1\n",
        "\n",
        "    return word_count\n",
        "\n",
        "# Input: The sentence for which you want to count words\n",
        "user_sentence = input(\"Enter a sentence: \")\n",
        "\n",
        "# Call the function and print the result\n",
        "result = count_words(user_sentence)\n",
        "print(f\"The number of words in the sentence is: {result}\")\n"
      ],
      "metadata": {
        "id": "RNX_d5jMFho9"
      },
      "execution_count": null,
      "outputs": []
    },
    {
      "cell_type": "code",
      "source": [
        "# Python program to find the sum of all odd numbers from 1 to 50 using a for loop\n",
        "\n",
        "# Initialize a variable to store the sum\n",
        "sum_of_odd_numbers = 0\n",
        "\n",
        "# Using a for loop to iterate over the range of numbers from 1 to 51 (exclusive)\n",
        "for num in range(1, 51, 2):\n",
        "    sum_of_odd_numbers += num\n",
        "\n",
        "# Print the sum\n",
        "print(\"The sum of all odd numbers from 1 to 50 is:\", sum_of_odd_numbers)\n"
      ],
      "metadata": {
        "id": "7ra-Rc2QFwH1"
      },
      "execution_count": null,
      "outputs": []
    },
    {
      "cell_type": "code",
      "source": [
        "  # Python program to check if a given year is a leap year using a for loop\n",
        "\n",
        "# Function to check if a year is a leap year\n",
        "def is_leap_year(year):\n",
        "    # Using a for loop to iterate over a range of years (you can customize the range)\n",
        "    for current_year in range(1, year + 1):\n",
        "        # Check if the current year is a leap year\n",
        "        if (current_year % 4 == 0 and current_year % 100 != 0) or (current_year % 400 == 0):\n",
        "            if current_year == year:\n",
        "                return True\n",
        "            else:\n",
        "                continue\n",
        "    return False\n",
        "\n",
        "# Input: The year to be checked\n",
        "user_year = int(input(\"Enter a year: \"))\n",
        "\n",
        "# Check if the input year is a leap year\n",
        "if is_leap_year(user_year):\n",
        "    print(f\"{user_year} is a leap year.\")\n",
        "else:\n",
        "    print(f\"{user_year} is not a leap year.\")\n"
      ],
      "metadata": {
        "id": "eYElZxOTGBxN"
      },
      "execution_count": null,
      "outputs": []
    },
    {
      "cell_type": "markdown",
      "source": [
        "IF-ELSE STATEMENTS:"
      ],
      "metadata": {
        "id": "aR-f68AVH1UD"
      }
    },
    {
      "cell_type": "code",
      "source": [
        "# Python program to check if a number is positive, negative, or zero using an if-else statement\n",
        "\n",
        "# Input: The number to be checked\n",
        "user_number = float(input(\"Enter a number: \"))\n",
        "\n",
        "# Check if the number is positive, negative, or zero\n",
        "if user_number > 0:\n",
        "    print(f\"{user_number} is a positive number.\")\n",
        "elif user_number < 0:\n",
        "    print(f\"{user_number} is a negative number.\")\n",
        "else:\n",
        "    print(\"The number is zero.\")\n"
      ],
      "metadata": {
        "id": "ETQeUHQ9GpmO"
      },
      "execution_count": null,
      "outputs": []
    },
    {
      "cell_type": "code",
      "source": [
        "# Python program to check if a given number is even or odd using an if-else statement\n",
        "\n",
        "# Input: The number to be checked\n",
        "user_number = int(input(\"Enter a number: \"))\n",
        "\n",
        "# Check if the number is even or odd\n",
        "if user_number % 2 == 0:\n",
        "    print(f\"{user_number} is an even number.\")\n",
        "else:\n",
        "    print(f\"{user_number} is an odd number.\")\n"
      ],
      "metadata": {
        "id": "ETIo0R6wIO8-"
      },
      "execution_count": null,
      "outputs": []
    },
    {
      "cell_type": "markdown",
      "source": [
        "Q. How can you use nested if-elsestatements in Python,and provide an example?"
      ],
      "metadata": {
        "id": "Di5JQzz2I4kw"
      }
    },
    {
      "cell_type": "code",
      "source": [
        "'''Nested if-else statements in Python allow you to have multiple levels of conditional checks within each other. This is useful when you need to check additional conditions based on the outcome of a primary condition.\n",
        " Here's an example to illustrate nested if-else statements:'''\n",
        "\n",
        " # Python program with nested if-else statements\n",
        "\n",
        "# Input: Age of a person\n",
        "age = int(input(\"Enter your age: \"))\n",
        "\n",
        "# Primary condition to check if the person is eligible for voting\n",
        "if age >= 18:\n",
        "    print(\"You are eligible to vote.\")\n",
        "\n",
        "    # Nested condition to check if the person is also eligible for driving\n",
        "    driving_license = input(\"Do you have a driving license? (yes/no): \").lower()\n",
        "\n",
        "    if driving_license == 'yes':\n",
        "        print(\"You are eligible to drive.\")\n",
        "    else:\n",
        "        print(\"You are eligible to vote but not eligible to drive.\")\n",
        "else:\n",
        "    print(\"You are not eligible to vote.\")\n",
        "\n",
        "\n"
      ],
      "metadata": {
        "id": "WbszLG0-ItA0"
      },
      "execution_count": null,
      "outputs": []
    },
    {
      "cell_type": "code",
      "source": [
        "# Python program to determine the largest of three numbers using if-else\n",
        "\n",
        "# Input: Three numbers\n",
        "num1 = float(input(\"Enter the first number: \"))\n",
        "num2 = float(input(\"Enter the second number: \"))\n",
        "num3 = float(input(\"Enter the third number: \"))\n",
        "\n",
        "# Compare the numbers to find the largest\n",
        "if num1 >= num2 and num1 >= num3:\n",
        "    largest = num1\n",
        "elif num2 >= num1 and num2 >= num3:\n",
        "    largest = num2\n",
        "else:\n",
        "    largest = num3\n",
        "\n",
        "# Print the result\n",
        "print(f\"The largest number among {num1}, {num2}, and {num3} is: {largest}\")\n"
      ],
      "metadata": {
        "id": "BBos7hwaJV24"
      },
      "execution_count": null,
      "outputs": []
    },
    {
      "cell_type": "code",
      "source": [
        "# Python program to calculate the absolute value of a number using if-else\n",
        "\n",
        "# Input: The number\n",
        "user_number = float(input(\"Enter a number: \"))\n",
        "\n",
        "# Calculate the absolute value using if-else\n",
        "if user_number < 0:\n",
        "    absolute_value = -user_number\n",
        "else:\n",
        "    absolute_value = user_number\n",
        "\n",
        "# Print the result\n",
        "print(f\"The absolute value of {user_number} is: {absolute_value}\")\n"
      ],
      "metadata": {
        "id": "VmJkrIPeJlBm"
      },
      "execution_count": null,
      "outputs": []
    },
    {
      "cell_type": "code",
      "source": [
        "# Python program to check if a given character is a vowel or consonant using if-else\n",
        "\n",
        "# Input: The character\n",
        "user_char = input(\"Enter a character: \")\n",
        "\n",
        "# Convert the character to lowercase for case-insensitive comparison\n",
        "user_char = user_char.lower()\n",
        "\n",
        "# Check if the character is a vowel or consonant using if-else\n",
        "if user_char.isalpha() and len(user_char) == 1:\n",
        "    if user_char in 'aeiou':\n",
        "        print(f\"{user_char} is a vowel.\")\n",
        "    else:\n",
        "        print(f\"{user_char} is a consonant.\")\n",
        "else:\n",
        "    print(\"Invalid input. Please enter a single alphabet character.\")\n"
      ],
      "metadata": {
        "id": "BfKjTYgsJs8W"
      },
      "execution_count": null,
      "outputs": []
    },
    {
      "cell_type": "code",
      "source": [
        "# Python program to determine if a user is eligible to vote based on their age using if-else\n",
        "\n",
        "# Input: Age of the user\n",
        "user_age = int(input(\"Enter your age: \"))\n",
        "\n",
        "# Check if the user is eligible to vote using if-else\n",
        "if user_age >= 18:\n",
        "    print(\"You are eligible to vote.\")\n",
        "else:\n",
        "    print(\"You are not eligible to vote yet. Wait until you turn 18.\")\n"
      ],
      "metadata": {
        "id": "zmFEaB9XJw3r"
      },
      "execution_count": null,
      "outputs": []
    },
    {
      "cell_type": "code",
      "source": [
        "# Python program to determine the grade of a student based on their score using if-else\n",
        "\n",
        "# Input: The student's score\n",
        "student_score = float(input(\"Enter the student's score: \"))\n",
        "\n",
        "# Determine the grade using if-else\n",
        "if 90 <= student_score <= 100:\n",
        "    grade = 'A'\n",
        "elif 80 <= student_score < 90:\n",
        "    grade = 'B'\n",
        "elif 70 <= student_score < 80:\n",
        "    grade = 'C'\n",
        "elif 60 <= student_score < 70:\n",
        "    grade = 'D'\n",
        "elif 0 <= student_score < 60:\n",
        "    grade = 'F'\n",
        "else:\n",
        "    grade = 'Invalid Score. Please enter a score between 0 and 100.'\n",
        "\n",
        "# Print the result\n",
        "print(f\"The student's grade is: {grade}\")\n"
      ],
      "metadata": {
        "id": "tjhLNxJWKMur"
      },
      "execution_count": null,
      "outputs": []
    },
    {
      "cell_type": "code",
      "source": [
        "# Python program to check if a string is empty or not using if-else\n",
        "\n",
        "# Input: The string\n",
        "user_string = input(\"Enter a string: \")\n",
        "\n",
        "# Check if the string is empty or not using if-else\n",
        "if user_string:\n",
        "    print(\"The string is not empty.\")\n",
        "else:\n",
        "    print(\"The string is empty.\")\n"
      ],
      "metadata": {
        "id": "Bo61TdNAKaaT"
      },
      "execution_count": null,
      "outputs": []
    },
    {
      "cell_type": "code",
      "source": [
        "# Python program to identify the type of a triangle based on input values using if-else\n",
        "\n",
        "# Input: Lengths of three sides of the triangle\n",
        "side1 = float(input(\"Enter the length of side 1: \"))\n",
        "side2 = float(input(\"Enter the length of side 2: \"))\n",
        "side3 = float(input(\"Enter the length of side 3: \"))\n",
        "\n",
        "# Check the type of the triangle using if-else\n",
        "if side1 == side2 == side3:\n",
        "    triangle_type = \"Equilateral\"\n",
        "elif side1 == side2 or side1 == side3 or side2 == side3:\n",
        "    triangle_type = \"Isosceles\"\n",
        "else:\n",
        "    triangle_type = \"Scalene\"\n",
        "\n",
        "# Print the result\n",
        "print(f\"The triangle is a {triangle_type} triangle.\")\n"
      ],
      "metadata": {
        "id": "1K2KwLrOKqos"
      },
      "execution_count": null,
      "outputs": []
    },
    {
      "cell_type": "code",
      "source": [
        "# Python program to determine the day of the week based on a user-provided number using if-else\n",
        "\n",
        "# Input: The user-provided number representing the day\n",
        "user_number = int(input(\"Enter a number (1-7) to represent the day of the week: \"))\n",
        "\n",
        "# Check the day of the week using if-else\n",
        "if 1 <= user_number <= 7:\n",
        "    # Define a list of days of the week\n",
        "    days_of_week = [\"Monday\", \"Tuesday\", \"Wednesday\", \"Thursday\", \"Friday\", \"Saturday\", \"Sunday\"]\n",
        "\n",
        "    # Get the day of the week based on the user-provided number\n",
        "    day_of_week = days_of_week[user_number - 1]\n",
        "\n",
        "    # Print the result\n",
        "    print(f\"The day corresponding to {user_number} is {day_of_week}.\")\n",
        "else:\n",
        "    print(\"Invalid input. Please enter a number between 1 and 7.\")\n"
      ],
      "metadata": {
        "id": "PsIr7fiWLLIV"
      },
      "execution_count": null,
      "outputs": []
    },
    {
      "cell_type": "markdown",
      "source": [
        "Q. How do you use the \"assert\" statement in Python to add debugging checks with in if-elseblocks?"
      ],
      "metadata": {
        "id": "J8SSUDeaLpol"
      }
    },
    {
      "cell_type": "code",
      "source": [
        "# can use assert statements within if-else blocks to add debugging checks. Here's an example:\n",
        "\n",
        "# Python program using assert statements within if-else blocks for debugging checks\n",
        "\n",
        "# Function to calculate the discounted price\n",
        "def calculate_discounted_price(original_price, discount):\n",
        "    # Check if the discount is within a valid range (0 to 100)\n",
        "    assert 0 <= discount <= 100, \"Discount should be between 0 and 100.\"\n",
        "\n",
        "    discounted_price = original_price - (original_price * discount / 100)\n",
        "\n",
        "    # Check if the discounted price is positive\n",
        "    assert discounted_price >= 0, \"Discounted price cannot be negative.\"\n",
        "\n",
        "    return discounted_price\n",
        "\n",
        "# Example usage\n",
        "try:\n",
        "    original_price = float(input(\"Enter the original price: \"))\n",
        "    discount = float(input(\"Enter the discount percentage: \"))\n",
        "    discounted_price = calculate_discounted_price(original_price, discount)\n",
        "    print(f\"The discounted price is: {discounted_price}\")\n",
        "except ValueError as ve:\n",
        "    print(f\"Error: {ve}\")\n",
        "except AssertionError as ae:\n",
        "    print(f\"Assertion Error: {ae}\")\n",
        "\n"
      ],
      "metadata": {
        "id": "PWU2W71fL_2h"
      },
      "execution_count": null,
      "outputs": []
    },
    {
      "cell_type": "code",
      "source": [
        "# Python program to determine if a given number is a perfect square using if-else\n",
        "\n",
        "# Function to check if a number is a perfect square\n",
        "def is_perfect_square(number):\n",
        "    # Check if the square root of the number is an integer\n",
        "    square_root = int(number**0.5)\n",
        "    return square_root**2 == number\n",
        "\n",
        "# Input: The number to be checked\n",
        "user_number = int(input(\"Enter a number: \"))\n",
        "\n",
        "# Check if the number is a perfect square using if-else\n",
        "if is_perfect_square(user_number):\n",
        "    print(f\"{user_number} is a perfect square.\")\n",
        "else:\n",
        "    print(f\"{user_number} is not a perfect square.\")\n"
      ],
      "metadata": {
        "id": "X80U95wCMgRV"
      },
      "execution_count": null,
      "outputs": []
    },
    {
      "cell_type": "markdown",
      "source": [
        "1. Explain the purpose of the\"continue\"and\"break\"statements with in if-else loops."
      ],
      "metadata": {
        "id": "_mU250--OhIY"
      }
    },
    {
      "cell_type": "code",
      "source": [
        "'''continue statement:\n",
        "The continue statement is used to skip the rest of the code inside the loop for the current iteration and move on to the next iteration.\n",
        "In the context of an if-else loop, it is typically used within the loop body. When the continue statement is encountered,\n",
        "the remaining code within the loop for the current iteration is skipped, and the loop proceeds to the next iteration.'''\n",
        "\n",
        "\n",
        "# Example:\n",
        "\n",
        "for i in range(1, 6):\n",
        "    if i == 3:\n",
        "        continue  # Skip the rest of the loop body for i=3\n",
        "    print(i)\n",
        "\n",
        "'''break statement:\n",
        "The break statement is used to exit a loop prematurely. When the break statement is encountered within a loop,\n",
        "the loop is terminated, and the program execution moves to the first statement after the loop.'''\n",
        "\n",
        "# Example:\n",
        "\n",
        "for i in range(1, 6):\n",
        "    if i == 3:\n",
        "        break  # Exit the loop when i=3\n",
        "    print(i)\n",
        "\n",
        "\n",
        "#continue is used to skip the rest of the loop body for the current iteration and move to the next iteration.\n",
        "#break is used to exit the loop prematurely, terminating the loop and moving to the next statement after the loop."
      ],
      "metadata": {
        "id": "hlRdtJ-_OvHt"
      },
      "execution_count": null,
      "outputs": []
    },
    {
      "cell_type": "code",
      "source": [
        "# Python program to determine if a given number is prime or not using if-else\n",
        "\n",
        "# Function to check if a number is prime\n",
        "def is_prime(number):\n",
        "    if number <= 1:\n",
        "        return False  # Numbers less than or equal to 1 are not prime\n",
        "    elif number == 2:\n",
        "        return True   # 2 is a prime number\n",
        "    elif number % 2 == 0:\n",
        "        return False  # Even numbers (except 2) are not prime\n",
        "\n",
        "    # Check divisibility starting from 3 up to the square root of the number\n",
        "    for i in range(3, int(number**0.5) + 1, 2):\n",
        "        if number % i == 0:\n",
        "            return False  # If divisible, the number is not prime\n",
        "\n",
        "    return True  # If not divisible, the number is prime\n",
        "\n",
        "# Input: The number to be checked\n",
        "user_number = int(input(\"Enter a number: \"))\n",
        "\n",
        "# Check if the number is prime using if-else\n",
        "if is_prime(user_number):\n",
        "    print(f\"{user_number} is a prime number.\")\n",
        "else:\n",
        "    print(f\"{user_number} is not a prime number.\")\n"
      ],
      "metadata": {
        "id": "X5pCcmOVP2yH"
      },
      "execution_count": null,
      "outputs": []
    },
    {
      "cell_type": "markdown",
      "source": [
        "Using map method:"
      ],
      "metadata": {
        "id": "gfJcuc667s42"
      }
    },
    {
      "cell_type": "markdown",
      "source": [
        "Q.Explain the purpose of the`map()`function in Python and provide an example of how it can be used to apply a function to each element of an iterable."
      ],
      "metadata": {
        "id": "rRweVku371kc"
      }
    },
    {
      "cell_type": "code",
      "source": [
        "'''The map() function in Python is a built-in function that is used to apply a specified function to all the items in an iterable\n",
        "(e.g., a list, tuple, or string) and return an iterable map object (or, in Python 3, a list or other iterable).\n",
        "It essentially allows you to perform a certain operation on each item in the iterable without the need for explicit loops.'''\n",
        "\n",
        "#The syntax of the map() function is as follows:\n",
        "#map(function, iterable, ...)\n",
        "\n",
        "\n",
        "#function: The function to apply to each element of the iterable.\n",
        "#iterable: The iterable (e.g., a list, tuple, or string) whose elements will be processed by the function.\n",
        "\n",
        "#Here's a simple example to illustrate how map() works:\n",
        "\n",
        "\n",
        "# Example: Squaring each element of a list using map()\n",
        "numbers = [1, 2, 3, 4, 5]\n",
        "\n",
        "# Using map() to square each element\n",
        "squared_numbers = map(lambda x: x**2, numbers)\n",
        "\n",
        "# Converting the map object to a list for display\n",
        "squared_numbers_list = list(squared_numbers)\n",
        "\n",
        "# Printing the result\n",
        "print(squared_numbers_list)\n"
      ],
      "metadata": {
        "id": "2z3LFYJk662w"
      },
      "execution_count": null,
      "outputs": []
    },
    {
      "cell_type": "code",
      "source": [
        "# Python program using the map() function to square each element of a list\n",
        "\n",
        "# Input: List of numbers\n",
        "numbers = [1, 2, 3, 4, 5]\n",
        "\n",
        "# Using map() to square each element\n",
        "squared_numbers = map(lambda x: x**2, numbers)\n",
        "\n",
        "# Converting the map object to a list for display\n",
        "squared_numbers_list = list(squared_numbers)\n",
        "\n",
        "# Printing the original and squared numbers\n",
        "print(\"Original Numbers:\", numbers)\n",
        "print(\"Squared Numbers:\", squared_numbers_list)\n"
      ],
      "metadata": {
        "id": "B_--aayk84-U"
      },
      "execution_count": null,
      "outputs": []
    },
    {
      "cell_type": "code",
      "source": [
        "# Python program using the map() function to convert a list of names to uppercase\n",
        "\n",
        "# Input: List of names\n",
        "names = [\"Alice\", \"Bob\", \"Charlie\", \"David\"]\n",
        "\n",
        "# Using map() to convert each name to uppercase\n",
        "uppercase_names = map(str.upper, names)\n",
        "\n",
        "# Converting the map object to a list for display\n",
        "uppercase_names_list = list(uppercase_names)\n",
        "\n",
        "# Printing the original and uppercase names\n",
        "print(\"Original Names:\", names)\n",
        "print(\"Uppercase Names:\", uppercase_names_list)\n"
      ],
      "metadata": {
        "id": "kAyA1p1u9Mtg"
      },
      "execution_count": null,
      "outputs": []
    },
    {
      "cell_type": "code",
      "source": [
        "# Python program using the map() function to calculate the length of each word in a list\n",
        "\n",
        "# Input: List of strings\n",
        "words = [\"apple\", \"banana\", \"orange\", \"grape\"]\n",
        "\n",
        "# Using map() to calculate the length of each word\n",
        "word_lengths = map(len, words)\n",
        "\n",
        "# Converting the map object to a list for display\n",
        "word_lengths_list = list(word_lengths)\n",
        "\n",
        "# Printing the original words and their lengths\n",
        "print(\"Original Words:\", words)\n",
        "print(\"Word Lengths:\", word_lengths_list)\n"
      ],
      "metadata": {
        "id": "i4iMRD3e9hPq"
      },
      "execution_count": null,
      "outputs": []
    },
    {
      "cell_type": "code",
      "source": [
        "# Python program using the map() function to convert a list of temperatures from Celsius to Fahrenheit\n",
        "\n",
        "# Function to convert Celsius to Fahrenheit\n",
        "def celsius_to_fahrenheit(celsius):\n",
        "    return (9/5) * celsius + 32\n",
        "\n",
        "# Input: List of temperatures in Celsius\n",
        "temperatures_celsius = [0, 10, 20, 30, 40]\n",
        "\n",
        "# Using map() to convert each temperature to Fahrenheit\n",
        "temperatures_fahrenheit = map(celsius_to_fahrenheit, temperatures_celsius)\n",
        "\n",
        "# Converting the map object to a list for display\n",
        "temperatures_fahrenheit_list = list(temperatures_fahrenheit)\n",
        "\n",
        "# Printing the original temperatures and their Fahrenheit equivalents\n",
        "print(\"Temperatures in Celsius:\", temperatures_celsius)\n",
        "print(\"Temperatures in Fahrenheit:\", temperatures_fahrenheit_list)\n"
      ],
      "metadata": {
        "id": "P1EoBPQ29p-h"
      },
      "execution_count": null,
      "outputs": []
    },
    {
      "cell_type": "markdown",
      "source": [
        "REDUSE:"
      ],
      "metadata": {
        "id": "1GC5X_XnFRoF"
      }
    },
    {
      "cell_type": "markdown",
      "source": [
        "Q. What is the`reduce()`function in Python,and what module should you import to use it?Provide an example of its basic usage."
      ],
      "metadata": {
        "id": "U92MTAk3FdD1"
      }
    },
    {
      "cell_type": "code",
      "source": [
        "'''The reduce() function in Python is part of the functools module, and it is used for cumulative computations on an iterable.\n",
        "Specifically, it applies a binary function successively to the items of an iterable, reducing the iterable to a single accumulated result.'''\n",
        "\n",
        "#Here is the basic syntax of the reduce() function:\n",
        "\n",
        "'''functools.reduce(function, iterable, initializer=None)'''\n",
        "\n",
        "#function: The binary function that takes two arguments and is applied cumulatively to the items of the iterable.\n",
        "#iterable: The iterable (e.g., list, tuple) whose elements will be processed by the function.\n",
        "#initializer: An optional argument that provides an initial value for the accumulation. If initializer is not specified, the first two elements of the iterable are used.\n",
        "#To use the reduce() function, you need to import it from the functools module:\n",
        "\n",
        "'''from functools import reduce'''\n",
        "\n",
        "# Here's a basic example to illustrate the usage of reduce():\n",
        "\n",
        "from functools import reduce\n",
        "\n",
        "# Example: Calculating the product of elements in a list using reduce()\n",
        "numbers = [1, 2, 3, 4, 5]\n",
        "\n",
        "# Using reduce() to calculate the product of elements\n",
        "product = reduce(lambda x, y: x * y, numbers)\n",
        "\n",
        "# Printing the result\n",
        "print(\"Product of elements:\", product)\n",
        "\n",
        "\n",
        "\n",
        "\n"
      ],
      "metadata": {
        "id": "lA51f7pdFW9f"
      },
      "execution_count": null,
      "outputs": []
    },
    {
      "cell_type": "code",
      "source": [
        "from functools import reduce\n",
        "\n",
        "# Function to calculate the product of two numbers\n",
        "def multiply(x, y):\n",
        "    return x * y\n",
        "\n",
        "# Input: List of numbers\n",
        "numbers = [1, 2, 3, 4, 5]\n",
        "\n",
        "# Using reduce() to calculate the product of all elements\n",
        "product = reduce(multiply, numbers)\n",
        "\n",
        "# Printing the result\n",
        "print(\"Product of elements:\", product)\n"
      ],
      "metadata": {
        "id": "S296QjmqGp6L"
      },
      "execution_count": null,
      "outputs": []
    },
    {
      "cell_type": "code",
      "source": [
        "from functools import reduce\n",
        "\n",
        "# Function to find the maximum of two numbers\n",
        "def find_max(x, y):\n",
        "    return x if x > y else y\n",
        "\n",
        "# Input: List of numbers\n",
        "numbers = [12, 5, 78, 42, 56, 23]\n",
        "\n",
        "# Using reduce() to find the maximum element\n",
        "max_element = reduce(find_max, numbers)\n",
        "\n",
        "# Printing the result\n",
        "print(\"Maximum element:\", max_element)\n"
      ],
      "metadata": {
        "id": "1azKkIZ9G6CK"
      },
      "execution_count": null,
      "outputs": []
    },
    {
      "cell_type": "code",
      "source": [
        "from functools import reduce\n",
        "\n",
        "# Function to calculate the factorial of a number\n",
        "def calculate_factorial(acc, x):\n",
        "    return acc * x\n",
        "\n",
        "# Input: Number for which factorial is to be calculated\n",
        "number = int(input(\"Enter a number: \"))\n",
        "\n",
        "# Using reduce() to calculate the factorial\n",
        "factorial = reduce(calculate_factorial, range(1, number + 1), 1)\n",
        "\n",
        "# Printing the result\n",
        "print(f\"The factorial of {number} is: {factorial}\")\n"
      ],
      "metadata": {
        "id": "RUZC672DHBHr"
      },
      "execution_count": null,
      "outputs": []
    },
    {
      "cell_type": "code",
      "source": [
        "from functools import reduce\n",
        "\n",
        "# Function to calculate the sum of digits\n",
        "def calculate_sum_of_digits(acc, digit):\n",
        "    return acc + int(digit)\n",
        "\n",
        "# Input: Number for which sum of digits is to be calculated\n",
        "number = input(\"Enter a number: \")\n",
        "\n",
        "# Using reduce() to calculate the sum of digits\n",
        "sum_of_digits = reduce(calculate_sum_of_digits, number, 0)\n",
        "\n",
        "# Printing the result\n",
        "print(f\"The sum of digits in {number} is: {sum_of_digits}\")\n"
      ],
      "metadata": {
        "id": "GYdcq38UHJUi"
      },
      "execution_count": null,
      "outputs": []
    },
    {
      "cell_type": "markdown",
      "source": [
        "FILTERS:"
      ],
      "metadata": {
        "id": "pqacBrYlHhRV"
      }
    },
    {
      "cell_type": "markdown",
      "source": [
        "Q. Explain the purpose of the `filter()`function in Python and provide an example of how it can be used to filter elements from an iterable."
      ],
      "metadata": {
        "id": "fplrHfzbHkk5"
      }
    },
    {
      "cell_type": "code",
      "source": [
        "'''The filter() function in Python is a built-in function used to construct an iterator from elements of an iterable for which a function returns true.\n",
        " It is a way to selectively include or exclude elements based on a specified condition.'''\n",
        "\n",
        " #The syntax of the filter() function is as follows:\n",
        "'''filter(function, iterable)'''\n",
        "\n",
        "#function: The function that tests whether each element of an iterable should be included in the result. If None, it simply returns the elements of the iterable that are true.\n",
        "#iterable: The iterable (e.g., a list, tuple) whose elements will be filtered based on the function.\n",
        "\n",
        "#Here's a simple example to illustrate how filter() works:\n",
        "# Example: Filtering even numbers from a list\n",
        "numbers = [1, 2, 3, 4, 5, 6, 7, 8, 9, 10]\n",
        "\n",
        "# Using filter() to filter even numbers\n",
        "even_numbers = filter(lambda x: x % 2 == 0, numbers)\n",
        "\n",
        "# Converting the filter object to a list for display\n",
        "even_numbers_list = list(even_numbers)\n",
        "\n",
        "# Printing the result\n",
        "print(\"Original Numbers:\", numbers)\n",
        "print(\"Even Numbers:\", even_numbers_list)\n",
        "\n"
      ],
      "metadata": {
        "id": "h9SjXiezHjq6"
      },
      "execution_count": null,
      "outputs": []
    },
    {
      "cell_type": "code",
      "source": [
        "# Python program using the filter() function to select even numbers from a list\n",
        "\n",
        "# Input: List of numbers\n",
        "numbers = [1, 2, 3, 4, 5, 6, 7, 8, 9, 10]\n",
        "\n",
        "# Using filter() to select even numbers\n",
        "even_numbers = filter(lambda x: x % 2 == 0, numbers)\n",
        "\n",
        "# Converting the filter object to a list for display\n",
        "even_numbers_list = list(even_numbers)\n",
        "\n",
        "# Printing the result\n",
        "print(\"Original Numbers:\", numbers)\n",
        "print(\"Even Numbers:\", even_numbers_list)\n"
      ],
      "metadata": {
        "id": "vmcG9rgjITVK"
      },
      "execution_count": null,
      "outputs": []
    },
    {
      "cell_type": "code",
      "source": [
        "# Python program using the filter() function to select names that start with a specific letter\n",
        "\n",
        "# Input: List of names\n",
        "names = [\"Alice\", \"Bob\", \"Charlie\", \"David\", \"Eva\", \"Frank\"]\n",
        "\n",
        "# Specify the letter to filter names\n",
        "start_letter = \"D\"\n",
        "\n",
        "# Using filter() to select names that start with the specified letter\n",
        "selected_names = filter(lambda name: name.startswith(start_letter), names)\n",
        "\n",
        "# Converting the filter object to a list for display\n",
        "selected_names_list = list(selected_names)\n",
        "\n",
        "# Printing the result\n",
        "print(f\"Original Names: {names}\")\n",
        "print(f\"Names starting with '{start_letter}': {selected_names_list}\")\n"
      ],
      "metadata": {
        "id": "NrB1yKu9IhKJ"
      },
      "execution_count": null,
      "outputs": []
    },
    {
      "cell_type": "code",
      "source": [
        "# Python program using the filter() function to select prime numbers from a list\n",
        "\n",
        "# Function to check if a number is prime\n",
        "def is_prime(number):\n",
        "    if number <= 1:\n",
        "        return False  # Numbers less than or equal to 1 are not prime\n",
        "    elif number == 2:\n",
        "        return True   # 2 is a prime number\n",
        "    elif number % 2 == 0:\n",
        "        return False  # Even numbers (except 2) are not prime\n",
        "\n",
        "    # Check divisibility starting from 3 up to the square root of the number\n",
        "    for i in range(3, int(number**0.5) + 1, 2):\n",
        "        if number % i == 0:\n",
        "            return False  # If divisible, the number is not prime\n",
        "\n",
        "    return True  # If not divisible, the number is prime\n",
        "\n",
        "# Input: List of numbers\n",
        "numbers = [1, 2, 3, 4, 5, 6, 7, 8, 9, 10]\n",
        "\n",
        "# Using filter() to select prime numbers\n",
        "prime_numbers = filter(is_prime, numbers)\n",
        "\n",
        "# Converting the filter object to a list for display\n",
        "prime_numbers_list = list(prime_numbers)\n",
        "\n",
        "# Printing the result\n",
        "print(\"Original Numbers:\", numbers)\n",
        "print(\"Prime Numbers:\", prime_numbers_list)\n"
      ],
      "metadata": {
        "id": "aGsiIqPvIn2y"
      },
      "execution_count": null,
      "outputs": []
    },
    {
      "cell_type": "code",
      "source": [
        "# Python program using the filter() function to select words longer than a certain length\n",
        "\n",
        "# Input: List of strings\n",
        "words = [\"apple\", \"banana\", \"orange\", \"grape\", \"kiwi\", \"pear\"]\n",
        "\n",
        "# Specify the minimum length for filtering\n",
        "min_length = 5\n",
        "\n",
        "# Using filter() to select words longer than the specified length\n",
        "selected_words = filter(lambda word: len(word) > min_length, words)\n",
        "\n",
        "# Converting the filter object to a list for display\n",
        "selected_words_list = list(selected_words)\n",
        "\n",
        "# Printing the result\n",
        "print(f\"Original Words: {words}\")\n",
        "print(f\"Words longer than {min_length} characters: {selected_words_list}\")\n"
      ],
      "metadata": {
        "id": "FaduwvXjIvng"
      },
      "execution_count": null,
      "outputs": []
    },
    {
      "cell_type": "markdown",
      "source": [
        "RECURSION:"
      ],
      "metadata": {
        "id": "lJS2JTCbJPAQ"
      }
    },
    {
      "cell_type": "markdown",
      "source": [
        "Q. Explain the concept of recursion in Python.How does it differ from iteration?"
      ],
      "metadata": {
        "id": "hZ3csmqCJS3X"
      }
    },
    {
      "cell_type": "code",
      "source": [
        "#Recursion and iteration are two different approaches to solve problems, and both involve repetitive execution of a set of instructions.\n",
        "\n",
        "'''Recursion:\n",
        "\n",
        "Recursion is a programming concept where a function calls itself in order to break down a complex problem into simpler subproblems.\n",
        "In a recursive solution, a function solves a smaller instance of the same problem and combines the results to solve the original problem.\n",
        "\n",
        "Key characteristics of recursion:\n",
        "\n",
        "Base Case: A recursive function must have a base case that defines the simplest scenario, allowing the function to stop calling itself.\n",
        "Divide and Conquer: The problem is divided into smaller subproblems, and the function is called recursively to solve each subproblem.\n",
        "Call Stack: Each recursive call adds a new frame to the call stack, which stores information about the function call. The stack is popped as the function returns.'''\n",
        "\n",
        "#Example of a recursive function (factorial):\n",
        "def factorial(n):\n",
        "    if n == 0 or n == 1:\n",
        "        return 1  # Base case\n",
        "    else:\n",
        "        return n * factorial(n - 1)  # Recursive call\n",
        "\n",
        "result = factorial(5)\n",
        "print(result)  # Output: 120\n",
        "\n",
        "'''Iteration:\n",
        "Iteration, on the other hand, involves using loops (like for or while) to repeatedly execute a set of statements. It relies on the concept of looping to solve problems by repeating a block of code until a certain condition is met.\n",
        "\n",
        "Key characteristics of iteration:\n",
        "\n",
        "Looping Structure: Iteration involves using looping structures like for or while.\n",
        "Explicit Control: The flow of control is explicitly managed through loop conditions and control statements.\n",
        "No Call Stack: Unlike recursion, there is no call stack in iteration, and the program flow is managed directly by the loop constructs.'''\n",
        "\n",
        "#Example of an iterative solution (factorial):\n",
        "def factorial_iterative(n):\n",
        "    result = 1\n",
        "    for i in range(1, n + 1):\n",
        "        result *= i\n",
        "    return result\n",
        "\n",
        "result_iterative = factorial_iterative(5)\n",
        "print(result_iterative)  # Output: 120\n",
        "\n",
        "'''Differences:\n",
        "\n",
        "Control Flow:\n",
        "Recursion relies on the function calling itself, which leads to the creation of multiple function frames on the call stack.\n",
        "Iteration uses loop structures to control the flow of execution, without creating additional function frames.\n",
        "\n",
        "Memory Usage:\n",
        "Recursion can consume more memory due to the call stack, especially for deep recursive calls.\n",
        "Iteration typically has less memory overhead as it doesn't involve creating additional function frames.\n",
        "\n",
        "Readability:\n",
        "Recursion can lead to concise and elegant solutions for certain problems, but it may be less intuitive for some developers.\n",
        "Iteration can be more explicit and may be preferred in situations where readability is a priority.'''\n",
        "\n",
        "\n"
      ],
      "metadata": {
        "id": "3My7hrtsJRuw"
      },
      "execution_count": null,
      "outputs": []
    },
    {
      "cell_type": "code",
      "source": [
        "def factorial(n):\n",
        "    if n == 0 or n == 1:\n",
        "        return 1  # Base case: factorial of 0 and 1 is 1\n",
        "    else:\n",
        "        return n * factorial(n - 1)  # Recursive case\n",
        "\n",
        "# Input: Number for which factorial is to be calculated\n",
        "number = int(input(\"Enter a number: \"))\n",
        "\n",
        "# Calculate and print the factorial\n",
        "result = factorial(number)\n",
        "print(f\"The factorial of {number} is: {result}\")\n"
      ],
      "metadata": {
        "id": "5bP24CtSLUJ2"
      },
      "execution_count": null,
      "outputs": []
    },
    {
      "cell_type": "code",
      "source": [
        "def fibonacci(n):\n",
        "    if n <= 0:\n",
        "        return \"Invalid input. Please enter a positive integer.\"\n",
        "    elif n == 1:\n",
        "        return 0  # First Fibonacci number\n",
        "    elif n == 2:\n",
        "        return 1  # Second Fibonacci number\n",
        "    else:\n",
        "        return fibonacci(n - 1) + fibonacci(n - 2)\n",
        "\n",
        "# Input: Position of the Fibonacci number to find\n",
        "position = int(input(\"Enter the position (n) to find the nth Fibonacci number: \"))\n",
        "\n",
        "# Calculate and print the nth Fibonacci number\n",
        "result = fibonacci(position)\n",
        "print(f\"The {position}th Fibonacci number is: {result}\")\n"
      ],
      "metadata": {
        "id": "551K6ZXQLaE0"
      },
      "execution_count": null,
      "outputs": []
    },
    {
      "cell_type": "code",
      "source": [
        "def recursive_sum(lst):\n",
        "    if not lst:\n",
        "        return 0  # Base case: an empty list has a sum of 0\n",
        "    else:\n",
        "        return lst[0] + recursive_sum(lst[1:])  # Recursive case\n",
        "\n",
        "# Input: List of numbers\n",
        "numbers = [1, 2, 3, 4, 5]\n",
        "\n",
        "# Calculate and print the sum of the elements\n",
        "result = recursive_sum(numbers)\n",
        "print(f\"The sum of elements in the list is: {result}\")\n"
      ],
      "metadata": {
        "id": "ce1cmOzQLkE2"
      },
      "execution_count": null,
      "outputs": []
    },
    {
      "cell_type": "code",
      "source": [
        "def recursive_reverse(input_str):\n",
        "    if len(input_str) == 0:\n",
        "        return input_str  # Base case: an empty string remains unchanged\n",
        "    else:\n",
        "        return input_str[-1] + recursive_reverse(input_str[:-1])  # Recursive case\n",
        "\n",
        "# Input: String to be reversed\n",
        "original_string = input(\"Enter a string to reverse: \")\n",
        "\n",
        "# Reverse the string and print the result\n",
        "reversed_string = recursive_reverse(original_string)\n",
        "print(f\"The reversed string is: {reversed_string}\")\n"
      ],
      "metadata": {
        "id": "JjgxZ_VfLzQj"
      },
      "execution_count": null,
      "outputs": []
    },
    {
      "cell_type": "code",
      "source": [
        "def recursive_permutations(input_str):\n",
        "    if len(input_str) == 1:\n",
        "        return [input_str]  # Base case: a single character has only one permutation\n",
        "\n",
        "    all_permutations = []\n",
        "    for i in range(len(input_str)):\n",
        "        current_char = input_str[i]\n",
        "        remaining_chars = input_str[:i] + input_str[i+1:]\n",
        "        permutations_of_remainder = recursive_permutations(remaining_chars)\n",
        "\n",
        "        for perm in permutations_of_remainder:\n",
        "            all_permutations.append(current_char + perm)\n",
        "\n",
        "    return all_permutations\n",
        "\n",
        "# Input: String for which permutations are to be found\n",
        "original_string = input(\"Enter a string to find permutations: \")\n",
        "\n",
        "# Find and print all permutations of the string\n",
        "result = recursive_permutations(original_string)\n",
        "print(f\"All permutations of the string are: {result}\")\n"
      ],
      "metadata": {
        "id": "Xf4zogoWL8Zc"
      },
      "execution_count": null,
      "outputs": []
    },
    {
      "cell_type": "code",
      "source": [
        "def is_palindrome(input_str):\n",
        "    input_str = input_str.lower()  # Convert to lowercase for case-insensitive comparison\n",
        "    if len(input_str) <= 1:\n",
        "        return True  # Base case: an empty string or single character is a palindrome\n",
        "    elif input_str[0] == input_str[-1]:\n",
        "        return is_palindrome(input_str[1:-1])  # Recursive case: check inner substring\n",
        "    else:\n",
        "        return False  # Not a palindrome\n",
        "\n",
        "# Input: String to be checked\n",
        "original_string = input(\"Enter a string to check for palindrome: \")\n",
        "\n",
        "# Check and print if the string is a palindrome\n",
        "result = is_palindrome(original_string)\n",
        "if result:\n",
        "    print(f\"The string '{original_string}' is a palindrome.\")\n",
        "else:\n",
        "    print(f\"The string '{original_string}' is not a palindrome.\")\n"
      ],
      "metadata": {
        "id": "Pn7vq2MUMNLb"
      },
      "execution_count": null,
      "outputs": []
    },
    {
      "cell_type": "code",
      "source": [
        "def recursive_combinations(elements, r):\n",
        "    def generate_combinations(current_combination, remaining_elements):\n",
        "        if len(current_combination) == r:\n",
        "            all_combinations.append(current_combination.copy())  # Add a copy of the current combination\n",
        "            return\n",
        "\n",
        "        for i in range(len(remaining_elements)):\n",
        "            current_combination.append(remaining_elements[i])\n",
        "            generate_combinations(current_combination, remaining_elements[i + 1:])\n",
        "            current_combination.pop()  # Backtrack\n",
        "\n",
        "    all_combinations = []\n",
        "    generate_combinations([], elements)\n",
        "    return all_combinations\n",
        "\n",
        "# Input: List of elements\n",
        "elements = [1, 2, 3]\n",
        "\n",
        "# Input: Size of combinations (r)\n",
        "r = int(input(\"Enter the size of combinations (r): \"))\n",
        "\n",
        "# Generate and print all combinations\n",
        "result = recursive_combinations(elements, r)\n",
        "print(f\"All combinations of size {r} are: {result}\")\n"
      ],
      "metadata": {
        "id": "RDGYzJ1QMitO"
      },
      "execution_count": null,
      "outputs": []
    },
    {
      "cell_type": "markdown",
      "source": [
        "Basics of Functions:"
      ],
      "metadata": {
        "id": "IqBmcYS_MpNw"
      }
    },
    {
      "cell_type": "markdown",
      "source": [
        "Q. What is a function in Python,and why is it used?"
      ],
      "metadata": {
        "id": "boOJkvXuQlre"
      }
    },
    {
      "cell_type": "code",
      "source": [
        "'''In Python, a function is a reusable block of code that performs a specific task or a set of tasks.\n",
        "Functions are a fundamental building block of programming and play a crucial role in structuring code, promoting code reuse, and enhancing\n",
        "modularity. '''\n",
        "\n",
        "# Function Definition:\n",
        "\n",
        "# Functions are defined using the def keyword, followed by the function name and a pair of parentheses.\n",
        "# The function may take input parameters (arguments) inside the parentheses.\n",
        "# The code block of the function is indented beneath the function definition.'''\n",
        "\n",
        "'''def greet(name):\n",
        "  print(f\"Hello, {name}!\")'''\n",
        "\n",
        "\n",
        "  # Function Call:\n",
        "\n",
        "# To execute the code inside a function, you need to call the function by using its name followed by parentheses.\n",
        "# Arguments can be passed to the function during the call.'''\n",
        "'''greet(\"Alice\")'''\n",
        "\n",
        "\n",
        "# Return Statement:\n",
        "\n",
        "# Functions can return a value using the return statement.\n",
        "# If there is no return statement or if return is without an expression, the function returns None by default\n",
        "\n",
        "'''def add_numbers(a, b):\n",
        "    return a + b'''\n",
        "\n",
        "\n",
        "# Code Reusability:\n",
        "\n",
        "# Functions promote code reusability by encapsulating a specific functionality.\n",
        "# Instead of writing the same code multiple times, you can define a function and call it whenever needed.\n",
        "'''def square(x):\n",
        "    return x ** 2\n",
        "\n",
        "result = square(4)'''\n",
        "\n",
        "\n",
        "'''In summary, functions in Python provide a way to structure and organize code, promote code reuse, and enhance the maintainability\n",
        "    of programs.'''\n",
        "\n",
        "\n",
        "\n"
      ],
      "metadata": {
        "id": "qp6tRSn7MtC3"
      },
      "execution_count": null,
      "outputs": []
    },
    {
      "cell_type": "markdown",
      "source": [
        "Q. How do you define a function in Python? Provide an example."
      ],
      "metadata": {
        "id": "pk6uTdwTRMgt"
      }
    },
    {
      "cell_type": "code",
      "source": [
        "'''In Python, you can define a function using the def keyword followed by the function name, a pair of parentheses containing any parameters the function takes,\n",
        "and a colon. The body of the function is indented below the function definition. Here's a simple example:'''\n",
        "\n",
        "def greet(name):\n",
        "    \"\"\"This function prints a greeting message.\"\"\"\n",
        "    print(f\"Hello, {name}!\")\n",
        "\n",
        "# Calling the function\n",
        "greet(\"Alice\")\n"
      ],
      "metadata": {
        "id": "LDgo4G-aPw-1"
      },
      "execution_count": null,
      "outputs": []
    },
    {
      "cell_type": "code",
      "source": [
        "'''The terms \"function definition\" and \"function call\" refer to two different aspects of using functions in programming. '''\n",
        "\n",
        "#Function Definition:\n",
        "\n",
        "'''Purpose: A function definition is a block of code that specifies what a function does and how it performs a specific task.\n",
        "Syntax: It starts with the def keyword, followed by the function name, a pair of parentheses (which may contain parameters), a colon,\n",
        "and the indented block of code that makes up the function body.\n",
        "\n",
        "Example:'''\n",
        "\n",
        "def greet(name):\n",
        "    \"\"\"This function prints a greeting message.\"\"\"\n",
        "    print(f\"Hello, {name}!\")\n",
        "\n",
        "\n",
        "\n",
        "#Function Call:\n",
        "\n",
        "#Purpose: A function call is an instruction to execute the code defined within a function. It is an invocation of the function to perform a specific task with specific values.\n",
        "#Syntax: It involves using the function name followed by a pair of parentheses containing any arguments (values) the function requires.\n",
        "\n",
        "#Example:\n",
        "greet(\"Alice\")\n",
        "\n"
      ],
      "metadata": {
        "id": "eup2N4ZfRgMc"
      },
      "execution_count": null,
      "outputs": []
    },
    {
      "cell_type": "code",
      "source": [
        "def calculate_sum(a, b):\n",
        "    \"\"\"This function calculates the sum of two numbers.\"\"\"\n",
        "    result = a + b\n",
        "    return result\n",
        "\n",
        "# Get user input for two numbers\n",
        "num1 = float(input(\"Enter the first number: \"))\n",
        "num2 = float(input(\"Enter the second number: \"))\n",
        "\n",
        "# Call the function and print the result\n",
        "sum_result = calculate_sum(num1, num2)\n",
        "print(f\"The sum of {num1} and {num2} is: {sum_result}\")\n"
      ],
      "metadata": {
        "id": "xuBh6DLESeGU"
      },
      "execution_count": null,
      "outputs": []
    },
    {
      "cell_type": "code",
      "source": [
        "def calculate_product(a, b):\n",
        "    \"\"\"This function calculates the product of two numbers.\"\"\"\n",
        "    result = a * b\n",
        "    return result\n",
        "\n",
        "# Get user input for two numbers\n",
        "num1 = float(input(\"Enter the first number: \"))\n",
        "num2 = float(input(\"Enter the second number: \"))\n",
        "\n",
        "# Call the function and print the result\n",
        "product_result = calculate_product(num1, num2)\n",
        "print(f\"The product of {num1} and {num2} is: {product_result}\")\n"
      ],
      "metadata": {
        "id": "fnwnm0kJS-6E"
      },
      "execution_count": null,
      "outputs": []
    },
    {
      "cell_type": "markdown",
      "source": [
        "Function Parameters and Arguments:"
      ],
      "metadata": {
        "id": "RLqnLJ6hTHmz"
      }
    },
    {
      "cell_type": "markdown",
      "source": [
        "Q. Explain the concepts of formal parameters and actual arguments in Python functions."
      ],
      "metadata": {
        "id": "TF2Hf00iTjqp"
      }
    },
    {
      "cell_type": "code",
      "source": [
        "'''In Python functions, the concepts of formal parameters and actual arguments refer to the variables declared in a function's definition (parameters)\n",
        "and the values passed to those variables during a function call (arguments)'''\n",
        "\n",
        "# Formal Parameters:\n",
        "# Definition:\n",
        "\n",
        "# Formal parameters are variables declared in the function definition.\n",
        "# They act as placeholders for the values that the function expects to receive.\n",
        "# These parameters are like local variables within the function.\n",
        "\n",
        "# Declaration:\n",
        "\n",
        "# Formal parameters are declared inside the parentheses following the function name.\n",
        "# They are used to define the expected structure and behavior of the function.\n",
        "\n",
        "def my_function(parameter1, parameter2):\n",
        "    # Function body\n",
        "\n",
        "\n",
        "# Actual Arguments:\n",
        "# Definition:\n",
        "\n",
        "# Actual arguments are the values passed to a function during a function call.\n",
        "# They provide concrete values for the formal parameters defined in the function.\n",
        "# Passing Values:\n",
        "\n",
        "# Actual arguments are passed inside the parentheses during the function call.\n",
        "# These values are used to replace the corresponding formal parameters in the function's execution.\n",
        "\n",
        "result = add(3, 4)\n",
        "\n",
        "\n"
      ],
      "metadata": {
        "id": "1EFLNrY6UyXK"
      },
      "execution_count": null,
      "outputs": []
    },
    {
      "cell_type": "code",
      "source": [
        "def greet(name, greeting=\"Hello\"):\n",
        "    \"\"\"This function greets a person with a default greeting.\"\"\"\n",
        "    print(f\"{greeting}, {name}!\")\n",
        "\n",
        "# Call the function with different scenarios\n",
        "greet(\"Alice\")                  # Uses the default greeting\n",
        "greet(\"Bob\", greeting=\"Hi\")     # Provides a custom greeting\n",
        "greet(\"Charlie\", greeting=\"Hola\")  # Provides another custom greeting\n"
      ],
      "metadata": {
        "id": "Y7Dho8X3VJKX"
      },
      "execution_count": null,
      "outputs": []
    },
    {
      "cell_type": "code",
      "source": [
        "def calculate_sum(*args):\n",
        "    \"\"\"This function calculates the sum of a variable number of arguments.\"\"\"\n",
        "    result = sum(args)\n",
        "    return result\n",
        "\n",
        "# Call the function with different numbers of arguments\n",
        "sum1 = calculate_sum(1, 2, 3)\n",
        "sum2 = calculate_sum(4, 5, 6, 7, 8)\n",
        "sum3 = calculate_sum(10, 20, 30, 40, 50)\n",
        "\n",
        "# Print the results\n",
        "print(f\"Sum 1: {sum1}\")\n",
        "print(f\"Sum 2: {sum2}\")\n",
        "print(f\"Sum 3: {sum3}\")\n"
      ],
      "metadata": {
        "id": "MrX9W7SdVLHx"
      },
      "execution_count": null,
      "outputs": []
    }
  ]
}